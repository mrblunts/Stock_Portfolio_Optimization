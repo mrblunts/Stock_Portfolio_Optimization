{
 "cells": [
  {
   "cell_type": "code",
   "execution_count": 37,
   "metadata": {},
   "outputs": [],
   "source": [
    "# Import the libraries and dependancies\n",
    "\n",
    "import pandas as pd \n",
    "import numpy as np \